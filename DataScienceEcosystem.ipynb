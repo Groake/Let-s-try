{
 "cells": [
  {
   "cell_type": "markdown",
   "id": "22ed1122-ec90-4ff3-a706-e03623b2a12c",
   "metadata": {},
   "source": [
    "# Data Science Tools and Ecosystem"
   ]
  },
  {
   "cell_type": "markdown",
   "id": "9989a786-cfce-4c4a-a828-6250f5fbef2e",
   "metadata": {},
   "source": [
    "In this notebook, Data Science Tools and Ecosystem are summarized."
   ]
  },
  {
   "cell_type": "markdown",
   "id": "717b91b9-bf84-4f44-8f94-66c708d594fa",
   "metadata": {},
   "source": [
    "**Objectives:**\n",
    "* List popular languages for Data Science\n",
    "* List commonly used libraries used by Data Scientists\n",
    "* Make use of simple arithmetic through addition, multiplication and addition"
   ]
  },
  {
   "cell_type": "markdown",
   "id": "09bba9b5-0690-4fa8-95d5-49ef7589cf6c",
   "metadata": {},
   "source": [
    "Some of the popular languages that Data Scientists use are: \n",
    "1. Python\n",
    "2. R\n",
    "3. SQL\n",
    "4. MATLAB"
   ]
  },
  {
   "cell_type": "markdown",
   "id": "ac5eac7f-f8e8-4176-9514-7b134c51ecf6",
   "metadata": {},
   "source": [
    "Some of the commonly used libraries used by Data Scientists include:\n",
    "1. NumPy\n",
    "2. TensorFlow\n",
    "3. SciPy"
   ]
  },
  {
   "cell_type": "markdown",
   "id": "fa335688-e667-4f4c-94ff-f604a8c98c40",
   "metadata": {},
   "source": [
    "| Data science tools |\n",
    "|-------------|\n",
    "|   Jupyter Notebook    |\n",
    "| Tableau       |\n",
    "| Excel       |\n"
   ]
  },
  {
   "cell_type": "markdown",
   "id": "c3db5402-ed37-4e60-bca8-26cc2e837061",
   "metadata": {},
   "source": [
    "### Below are a few examples of evaluating arithmetic expressions in Python"
   ]
  },
  {
   "cell_type": "markdown",
   "id": "1d69f03f-ce39-4fb7-8849-f70a06d15302",
   "metadata": {},
   "source": [
    "This a simple arithmetic expression to multiply then add integers"
   ]
  },
  {
   "cell_type": "code",
   "execution_count": 1,
   "id": "4222b519-25c4-405e-a041-6818ba218f36",
   "metadata": {
    "tags": []
   },
   "outputs": [
    {
     "data": {
      "text/plain": [
       "17"
      ]
     },
     "execution_count": 1,
     "metadata": {},
     "output_type": "execute_result"
    }
   ],
   "source": [
    "(3*4)+5"
   ]
  },
  {
   "cell_type": "markdown",
   "id": "475d5990-88b6-45b5-961e-459e26c9f1c5",
   "metadata": {},
   "source": [
    "This will convert 200 minutes to hours by diving by 60"
   ]
  },
  {
   "cell_type": "code",
   "execution_count": 2,
   "id": "557684c8-e8cb-4cf2-a98d-004851ccdc9d",
   "metadata": {
    "tags": []
   },
   "outputs": [
    {
     "data": {
      "text/plain": [
       "3.3333333333333335"
      ]
     },
     "execution_count": 2,
     "metadata": {},
     "output_type": "execute_result"
    }
   ],
   "source": [
    "200/60"
   ]
  },
  {
   "cell_type": "markdown",
   "id": "36f4484d-6e9b-468f-a09e-18798c8b8f1f",
   "metadata": {},
   "source": [
    "## Author \n",
    "Dercksen Stols"
   ]
  },
  {
   "cell_type": "code",
   "execution_count": null,
   "id": "b153bb4e-2582-45d4-b397-05083c22b3f6",
   "metadata": {},
   "outputs": [],
   "source": []
  }
 ],
 "metadata": {
  "kernelspec": {
   "display_name": "Python",
   "language": "python",
   "name": "conda-env-python-py"
  },
  "language_info": {
   "codemirror_mode": {
    "name": "ipython",
    "version": 3
   },
   "file_extension": ".py",
   "mimetype": "text/x-python",
   "name": "python",
   "nbconvert_exporter": "python",
   "pygments_lexer": "ipython3",
   "version": "3.7.12"
  }
 },
 "nbformat": 4,
 "nbformat_minor": 5
}
